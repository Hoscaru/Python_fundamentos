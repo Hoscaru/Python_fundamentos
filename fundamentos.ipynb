{
 "cells": [
  {
   "cell_type": "code",
   "execution_count": 2,
   "metadata": {},
   "outputs": [
    {
     "name": "stdout",
     "output_type": "stream",
     "text": [
      "Hola Mundo\n"
     ]
    }
   ],
   "source": [
    "print(\"Hola Mundo\")\n"
   ]
  },
  {
   "cell_type": "markdown",
   "metadata": {},
   "source": [
    "#### Fundamentos Python\n",
    "* Variables\n",
    "* Operadores Matematicos\n",
    "* Operadores Logicos\n",
    "* Operadores de comparacion\n",
    "* Estructura de Control\n",
    "    - Condicionales simples\n",
    "    - Condicionales anidados\n",
    "    - Condicionales encadenados\n",
    "    - Ciclos Finitos\n",
    "    - Ciclos Infinitos\n",
    "\n",
    "* Funciones\n",
    "* Estructura de Datos\n",
    "    - Cadenas de Caracteres\n",
    "    - Listas\n",
    "    - Tuplas\n",
    "    - Diccionarios"
   ]
  },
  {
   "cell_type": "markdown",
   "metadata": {},
   "source": [
    "### Variables"
   ]
  },
  {
   "cell_type": "code",
   "execution_count": 6,
   "metadata": {},
   "outputs": [
    {
     "name": "stdout",
     "output_type": "stream",
     "text": [
      "Oscar\n"
     ]
    }
   ],
   "source": [
    "name = \"Oscar\"\n",
    "print(name)"
   ]
  },
  {
   "cell_type": "code",
   "execution_count": 7,
   "metadata": {},
   "outputs": [],
   "source": [
    "last_name = \"Rodriguez\""
   ]
  },
  {
   "cell_type": "code",
   "execution_count": 8,
   "metadata": {},
   "outputs": [
    {
     "name": "stdout",
     "output_type": "stream",
     "text": [
      "Oscar Rodriguez\n"
     ]
    }
   ],
   "source": [
    "print(f\"{name} {last_name}\")"
   ]
  },
  {
   "cell_type": "code",
   "execution_count": 10,
   "metadata": {},
   "outputs": [
    {
     "data": {
      "text/plain": [
       "230"
      ]
     },
     "execution_count": 10,
     "metadata": {},
     "output_type": "execute_result"
    }
   ],
   "source": [
    "base = 23\n",
    "height = 10\n",
    "area = base * height\n",
    "area"
   ]
  },
  {
   "cell_type": "code",
   "execution_count": 13,
   "metadata": {},
   "outputs": [
    {
     "name": "stdout",
     "output_type": "stream",
     "text": [
      "230\n",
      "My name is Oscar Rodriguez.\n"
     ]
    }
   ],
   "source": [
    "print(area)\n",
    "print(f\"My name is {name} {last_name}.\")"
   ]
  },
  {
   "cell_type": "markdown",
   "metadata": {},
   "source": [
    "# Operadores matematicos basicos"
   ]
  },
  {
   "cell_type": "code",
   "execution_count": 15,
   "metadata": {},
   "outputs": [
    {
     "name": "stdout",
     "output_type": "stream",
     "text": [
      "El resultado de la resta es: 30\n"
     ]
    }
   ],
   "source": [
    "# Suma\n",
    "number_1 = 10\n",
    "number_2 = 20\n",
    "\n",
    "result = number_1 + number_2\n",
    "\n",
    "print(\"El resultado de la resta es:\", result)"
   ]
  },
  {
   "cell_type": "code",
   "execution_count": 16,
   "metadata": {},
   "outputs": [
    {
     "name": "stdout",
     "output_type": "stream",
     "text": [
      "El resultado de la resta es: -10\n"
     ]
    }
   ],
   "source": [
    "# Resta\n",
    "number_1 = 10\n",
    "number_2 = 20\n",
    "\n",
    "result = number_1 - number_2\n",
    "\n",
    "print(\"El resultado de la resta es:\", result)"
   ]
  },
  {
   "cell_type": "code",
   "execution_count": 17,
   "metadata": {},
   "outputs": [
    {
     "name": "stdout",
     "output_type": "stream",
     "text": [
      "El resultado de la multiplicacion es: 200\n"
     ]
    }
   ],
   "source": [
    "# Multiplicacion\n",
    "number_1 = 10\n",
    "number_2 = 20\n",
    "\n",
    "result = number_1 * number_2\n",
    "\n",
    "print(\"El resultado de la multiplicacion es:\", result)"
   ]
  },
  {
   "cell_type": "code",
   "execution_count": 18,
   "metadata": {},
   "outputs": [
    {
     "name": "stdout",
     "output_type": "stream",
     "text": [
      "El resultado de la division es: 0.5\n"
     ]
    }
   ],
   "source": [
    "# Division\n",
    "number_1 = 10\n",
    "number_2 = 20\n",
    "\n",
    "result = number_1 / number_2\n",
    "\n",
    "print(\"El resultado de la division es:\", result)"
   ]
  },
  {
   "cell_type": "code",
   "execution_count": 19,
   "metadata": {},
   "outputs": [
    {
     "name": "stdout",
     "output_type": "stream",
     "text": [
      "<class 'str'>\n",
      "<class 'int'>\n",
      "<class 'float'>\n"
     ]
    }
   ],
   "source": [
    "print( type(last_name))\n",
    "print( type(number_1))\n",
    "print( type(result))"
   ]
  },
  {
   "cell_type": "markdown",
   "metadata": {},
   "source": [
    "### Estructura de control"
   ]
  },
  {
   "cell_type": "code",
   "execution_count": 4,
   "metadata": {},
   "outputs": [],
   "source": [
    "name1 =\"pablo\"\n",
    "age = 16\n"
   ]
  },
  {
   "cell_type": "code",
   "execution_count": 2,
   "metadata": {},
   "outputs": [],
   "source": [
    "#if condicion:\n",
    "#   print(\"saludos\") "
   ]
  },
  {
   "cell_type": "code",
   "execution_count": 5,
   "metadata": {},
   "outputs": [
    {
     "name": "stdout",
     "output_type": "stream",
     "text": [
      "Puedes pasar\n"
     ]
    }
   ],
   "source": [
    "# Condicional simple\n",
    "if age > 15:\n",
    "    print(\"Puedes pasar\")"
   ]
  },
  {
   "cell_type": "code",
   "execution_count": null,
   "metadata": {},
   "outputs": [],
   "source": [
    "# Operadores de comparacion\n",
    "# Mayor que >\n",
    "# Menor que <\n",
    "# Mayor igual >= \n",
    "# Menor igual <= \n",
    "# Igual? ==\n",
    "# Diferente? !=\n"
   ]
  },
  {
   "cell_type": "code",
   "execution_count": 13,
   "metadata": {},
   "outputs": [
    {
     "name": "stdout",
     "output_type": "stream",
     "text": [
      "Puedes pasar aaa\n"
     ]
    }
   ],
   "source": [
    "name1 = input(\"Cual es tu nombre?: \")\n",
    "\n",
    "age = int(input(\"Cual es tu edad?: \"))\n",
    "\n",
    "age = float(age)\n",
    "\n",
    "if age > 15:\n",
    "    print(\"Puedes pasar\", name1)"
   ]
  },
  {
   "cell_type": "code",
   "execution_count": 12,
   "metadata": {},
   "outputs": [
    {
     "data": {
      "text/plain": [
       "int"
      ]
     },
     "execution_count": 12,
     "metadata": {},
     "output_type": "execute_result"
    }
   ],
   "source": [
    "type(age)\n"
   ]
  },
  {
   "cell_type": "code",
   "execution_count": 14,
   "metadata": {},
   "outputs": [
    {
     "data": {
      "text/plain": [
       "17.0"
      ]
     },
     "execution_count": 14,
     "metadata": {},
     "output_type": "execute_result"
    }
   ],
   "source": [
    "age"
   ]
  },
  {
   "cell_type": "code",
   "execution_count": null,
   "metadata": {},
   "outputs": [],
   "source": [
    "# Operdores logicos\n",
    "# and\n",
    "# or\n",
    "# not"
   ]
  },
  {
   "cell_type": "code",
   "execution_count": 15,
   "metadata": {},
   "outputs": [
    {
     "name": "stdout",
     "output_type": "stream",
     "text": [
      "Puedes pasar ooosao\n"
     ]
    }
   ],
   "source": [
    "name1 = input(\"Cual es tu nombre?: \")\n",
    "age = int(input(\"Cual es tu edad?: \"))\n",
    "day = input(\"Ingrese dia de la semana: \")\n",
    "\n",
    "\n",
    "\n",
    "if (age > 15):\n",
    "    if day == \"sabado\":\n",
    "        print(\"Puedes pasar\", name1)"
   ]
  },
  {
   "cell_type": "code",
   "execution_count": 19,
   "metadata": {},
   "outputs": [],
   "source": [
    "name1 = input(\"Cual es tu nombre?: \")\n",
    "age = int(input(\"Cual es tu edad?: \"))\n",
    "day = input(\"Ingrese dia de la semana: \")\n",
    "\n",
    "\n",
    "\n",
    "if (age > 15) and (day ==\"sabado\" or day == \"viernes\"):\n",
    "    print(\"Puedes pasar\", name1)"
   ]
  },
  {
   "cell_type": "code",
   "execution_count": 21,
   "metadata": {},
   "outputs": [
    {
     "name": "stdout",
     "output_type": "stream",
     "text": [
      "Puedes pasar oscar\n"
     ]
    }
   ],
   "source": [
    "name1 = input(\"Cual es tu nombre?: \")\n",
    "age = int(input(\"Cual es tu edad?: \"))\n",
    "day = input(\"Ingrese dia de la semana: \")\n",
    "\n",
    "\n",
    "\n",
    "if (age > 15): \n",
    "    if (day ==\"sabado\") or (day == \"viernes\"):\n",
    "        print(\"Puedes pasar\", name1)"
   ]
  },
  {
   "cell_type": "code",
   "execution_count": 23,
   "metadata": {},
   "outputs": [
    {
     "name": "stdout",
     "output_type": "stream",
     "text": [
      "No puedes pasar oscar\n"
     ]
    }
   ],
   "source": [
    "name1 = input(\"Cual es tu nombre?: \")\n",
    "age = int(input(\"Cual es tu edad?: \"))\n",
    "day = input(\"Ingrese dia de la semana: \")\n",
    "\n",
    "\n",
    "\n",
    "if (age > 15): \n",
    "    print(\"Puedes pasar\", name1)\n",
    "    if (day ==\"sabado\") or (day == \"viernes\"):\n",
    "        print(\"Puedes pasar\", name1)\n",
    "else:\n",
    "    print(\"No puedes pasar\",name1)"
   ]
  },
  {
   "cell_type": "code",
   "execution_count": 26,
   "metadata": {},
   "outputs": [
    {
     "name": "stdout",
     "output_type": "stream",
     "text": [
      "Puedes pasar oscar\n",
      "No es dia de fiesta oscar\n"
     ]
    }
   ],
   "source": [
    "name1 = input(\"Cual es tu nombre?: \")\n",
    "age = int(input(\"Cual es tu edad?: \"))\n",
    "day = input(\"Ingrese dia de la semana: \")\n",
    "\n",
    "\n",
    "\n",
    "if (age > 15):    \n",
    "    if (day ==\"sabado\") or (day == \"viernes\"):\n",
    "        print(\"Puedes pasar\", name1)\n",
    "    else:\n",
    "        print(\"No es dia de fiesta\",name1)\n",
    "else:\n",
    "    print(\"Eres menor de 15\")"
   ]
  },
  {
   "cell_type": "code",
   "execution_count": 27,
   "metadata": {},
   "outputs": [
    {
     "name": "stdout",
     "output_type": "stream",
     "text": [
      "Eres menor de 15\n"
     ]
    }
   ],
   "source": [
    "name1 = input(\"Cual es tu nombre?: \")\n",
    "age = int(input(\"Cual es tu edad?: \"))\n",
    "\n",
    "\n",
    "\n",
    "\n",
    "if (age > 15):    \n",
    "    day = input(\"Ingrese dia de la semana: \")\n",
    "    \n",
    "    if (day ==\"sabado\") or (day == \"viernes\"):\n",
    "        print(\"Puedes pasar\", name1)\n",
    "    else:\n",
    "        print(\"No es dia de fiesta\",name1)\n",
    "else:\n",
    "    print(\"Eres menor de 15\")"
   ]
  },
  {
   "cell_type": "markdown",
   "metadata": {},
   "source": [
    "### Condicionales encadenados"
   ]
  },
  {
   "cell_type": "code",
   "execution_count": 37,
   "metadata": {},
   "outputs": [
    {
     "name": "stdout",
     "output_type": "stream",
     "text": [
      "Voy al padel\n"
     ]
    }
   ],
   "source": [
    "#name1 = input(\"Cual es tu nombre?: \")\n",
    "# age = int(input(\"Cual es tu edad?: \"))\n",
    "day = input(\"Ingrese dia de la semana: \")\n",
    "\n",
    "\n",
    "if day == \"lunes\":\n",
    "    print(\"Voy al cine\")\n",
    "\n",
    "elif day == \"martes\":\n",
    "    print(\"Voy al gym\")\n",
    "\n",
    "elif day == \"miercoles\":\n",
    "    print(\"Voy al mercado\")\n",
    "\n",
    "elif day == \"jueves\":\n",
    "    print(\"Voy al padel\")\n",
    "\n",
    "elif day == \"viernes\":\n",
    "    print(\"Voy al bar\")\n",
    "\n",
    "else:\n",
    "    print(\"No ingresaste un dia habil valido\")\n",
    "\n",
    "\n",
    "# if (day == \"viernes\"):\n",
    "#     print()\n",
    "# else:\n",
    "#     print(\"No es viernes\",name1)\n"
   ]
  },
  {
   "cell_type": "markdown",
   "metadata": {},
   "source": [
    "### Ciclos finitos -> for"
   ]
  }
 ],
 "metadata": {
  "kernelspec": {
   "display_name": "Python 3",
   "language": "python",
   "name": "python3"
  },
  "language_info": {
   "codemirror_mode": {
    "name": "ipython",
    "version": 3
   },
   "file_extension": ".py",
   "mimetype": "text/x-python",
   "name": "python",
   "nbconvert_exporter": "python",
   "pygments_lexer": "ipython3",
   "version": "3.12.5"
  }
 },
 "nbformat": 4,
 "nbformat_minor": 2
}
