{
 "cells": [
  {
   "cell_type": "code",
   "execution_count": 2,
   "metadata": {},
   "outputs": [
    {
     "name": "stdout",
     "output_type": "stream",
     "text": [
      "Hola Mundo\n"
     ]
    }
   ],
   "source": [
    "print(\"Hola Mundo\")\n"
   ]
  },
  {
   "cell_type": "markdown",
   "metadata": {},
   "source": [
    "#### Fundamentos Python\n",
    "* Variables\n",
    "* Operadores Matematicos\n",
    "* Operadores Logicos\n",
    "* Operadores de comparacion\n",
    "* Estructura de Control\n",
    "    - Condicionales simples\n",
    "    - Condicionales anidados\n",
    "    - Condicionales encadenados\n",
    "    - Ciclos Finitos\n",
    "    - Ciclos Infinitos\n",
    "\n",
    "* Funciones\n",
    "* Estructura de Datos\n",
    "    - Cadenas de Caracteres\n",
    "    - Listas\n",
    "    - Tuplas\n",
    "    - Diccionarios"
   ]
  },
  {
   "cell_type": "markdown",
   "metadata": {},
   "source": [
    "### Variables"
   ]
  },
  {
   "cell_type": "code",
   "execution_count": 6,
   "metadata": {},
   "outputs": [
    {
     "name": "stdout",
     "output_type": "stream",
     "text": [
      "Oscar\n"
     ]
    }
   ],
   "source": [
    "name = \"Oscar\"\n",
    "print(name)"
   ]
  },
  {
   "cell_type": "code",
   "execution_count": 7,
   "metadata": {},
   "outputs": [],
   "source": [
    "last_name = \"Rodriguez\""
   ]
  },
  {
   "cell_type": "code",
   "execution_count": 8,
   "metadata": {},
   "outputs": [
    {
     "name": "stdout",
     "output_type": "stream",
     "text": [
      "Oscar Rodriguez\n"
     ]
    }
   ],
   "source": [
    "print(f\"{name} {last_name}\")"
   ]
  },
  {
   "cell_type": "code",
   "execution_count": 10,
   "metadata": {},
   "outputs": [
    {
     "data": {
      "text/plain": [
       "230"
      ]
     },
     "execution_count": 10,
     "metadata": {},
     "output_type": "execute_result"
    }
   ],
   "source": [
    "base = 23\n",
    "height = 10\n",
    "area = base * height\n",
    "area"
   ]
  },
  {
   "cell_type": "code",
   "execution_count": 13,
   "metadata": {},
   "outputs": [
    {
     "name": "stdout",
     "output_type": "stream",
     "text": [
      "230\n",
      "My name is Oscar Rodriguez.\n"
     ]
    }
   ],
   "source": [
    "print(area)\n",
    "print(f\"My name is {name} {last_name}.\")"
   ]
  },
  {
   "cell_type": "markdown",
   "metadata": {},
   "source": [
    "# Operadores matematicos basicos"
   ]
  },
  {
   "cell_type": "code",
   "execution_count": 15,
   "metadata": {},
   "outputs": [
    {
     "name": "stdout",
     "output_type": "stream",
     "text": [
      "El resultado de la resta es: 30\n"
     ]
    }
   ],
   "source": [
    "# Suma\n",
    "number_1 = 10\n",
    "number_2 = 20\n",
    "\n",
    "result = number_1 + number_2\n",
    "\n",
    "print(\"El resultado de la resta es:\", result)"
   ]
  },
  {
   "cell_type": "code",
   "execution_count": 16,
   "metadata": {},
   "outputs": [
    {
     "name": "stdout",
     "output_type": "stream",
     "text": [
      "El resultado de la resta es: -10\n"
     ]
    }
   ],
   "source": [
    "# Resta\n",
    "number_1 = 10\n",
    "number_2 = 20\n",
    "\n",
    "result = number_1 - number_2\n",
    "\n",
    "print(\"El resultado de la resta es:\", result)"
   ]
  },
  {
   "cell_type": "code",
   "execution_count": 17,
   "metadata": {},
   "outputs": [
    {
     "name": "stdout",
     "output_type": "stream",
     "text": [
      "El resultado de la multiplicacion es: 200\n"
     ]
    }
   ],
   "source": [
    "# Multiplicacion\n",
    "number_1 = 10\n",
    "number_2 = 20\n",
    "\n",
    "result = number_1 * number_2\n",
    "\n",
    "print(\"El resultado de la multiplicacion es:\", result)"
   ]
  },
  {
   "cell_type": "code",
   "execution_count": 18,
   "metadata": {},
   "outputs": [
    {
     "name": "stdout",
     "output_type": "stream",
     "text": [
      "El resultado de la division es: 0.5\n"
     ]
    }
   ],
   "source": [
    "# Division\n",
    "number_1 = 10\n",
    "number_2 = 20\n",
    "\n",
    "result = number_1 / number_2\n",
    "\n",
    "print(\"El resultado de la division es:\", result)"
   ]
  },
  {
   "cell_type": "code",
   "execution_count": 19,
   "metadata": {},
   "outputs": [
    {
     "name": "stdout",
     "output_type": "stream",
     "text": [
      "<class 'str'>\n",
      "<class 'int'>\n",
      "<class 'float'>\n"
     ]
    }
   ],
   "source": [
    "print( type(last_name))\n",
    "print( type(number_1))\n",
    "print( type(result))"
   ]
  },
  {
   "cell_type": "code",
   "execution_count": null,
   "metadata": {},
   "outputs": [],
   "source": []
  }
 ],
 "metadata": {
  "kernelspec": {
   "display_name": "Python 3",
   "language": "python",
   "name": "python3"
  },
  "language_info": {
   "codemirror_mode": {
    "name": "ipython",
    "version": 3
   },
   "file_extension": ".py",
   "mimetype": "text/x-python",
   "name": "python",
   "nbconvert_exporter": "python",
   "pygments_lexer": "ipython3",
   "version": "3.12.5"
  }
 },
 "nbformat": 4,
 "nbformat_minor": 2
}
